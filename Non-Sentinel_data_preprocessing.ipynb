{
 "cells": [
  {
   "cell_type": "markdown",
   "id": "09c3461c",
   "metadata": {},
   "source": [
    "# <div style=\"text-align: right;font-family:Times New Roman\">Приложение Б-2</div>\n",
    "# <div style=\"text-align: center;font-family:Times New Roman\">Предобработка ЦМР и карт ландшафтного покрова</div>"
   ]
  },
  {
   "cell_type": "markdown",
   "id": "3c50e210",
   "metadata": {},
   "source": [
    "# Preprocessing of DEMs and Landcover data\n",
    "# Предобработка ЦМР и карт ландшафтного покрова\n",
    "---\n",
    "In this notebook DEMs and Landcover data is being merged into single mosaic with the same resolution and shape as Sentinel-2 data. This algorythm can be implemented to any kind of raster data.\n",
    "\n",
    "В данном блоконте ЦМР и карты ландшафтного покрова объединяются в единую мозаику с тем же разрешением и размерами, что и данные Sentinel-2. Этот алгоритм может быть применен к любым растровым данным."
   ]
  },
  {
   "cell_type": "markdown",
   "id": "de6b60b2",
   "metadata": {},
   "source": [
    "### Importing dependencies\n",
    "### Импорт необходимых библиотек"
   ]
  },
  {
   "cell_type": "code",
   "execution_count": 3,
   "id": "ede94eac",
   "metadata": {},
   "outputs": [],
   "source": [
    "import os\n",
    "import random\n",
    "import re\n",
    "import numpy as np\n",
    "from glob import glob\n",
    "import geopandas as gpd\n",
    "from osgeo import gdal\n",
    "import rasterio as rio\n",
    "from rasterio.warp import calculate_default_transform, reproject, Resampling\n",
    "import rasterio.merge\n",
    "import rasterio.fill\n",
    "from rasterio.io import MemoryFile\n",
    "import fiona\n",
    "import shapely"
   ]
  },
  {
   "cell_type": "markdown",
   "id": "92186132",
   "metadata": {},
   "source": [
    "### Opening reference Sentinel-2 file\n",
    "### Открытие файла Sentinel-2"
   ]
  },
  {
   "cell_type": "code",
   "execution_count": 6,
   "id": "fa382cb8",
   "metadata": {},
   "outputs": [],
   "source": [
    "sentinel = rio.open(r'F:\\Work\\CorrProizv\\B1.tif')"
   ]
  },
  {
   "cell_type": "markdown",
   "id": "f44d446a",
   "metadata": {},
   "source": [
    "### Opening data for preprocessing\n",
    "### Открытие данных для предобработки"
   ]
  },
  {
   "cell_type": "code",
   "execution_count": 8,
   "id": "4a1d22ff",
   "metadata": {
    "scrolled": true
   },
   "outputs": [
    {
     "data": {
      "text/plain": [
       "['E:\\\\Work\\\\carbon\\\\altai\\\\ESA_WORLDCOVER_10M_2020_V100\\\\MAP\\\\ESA_WorldCover_10m_2020_v100_N54E084_Map\\\\ESA_WorldCover_10m_2020_v100_N54E084_Map.tif',\n",
       " 'E:\\\\Work\\\\carbon\\\\altai\\\\ESA_WORLDCOVER_10M_2020_V100\\\\MAP\\\\ESA_WorldCover_10m_2020_v100_N54E081_Map\\\\ESA_WorldCover_10m_2020_v100_N54E081_Map.tif',\n",
       " 'E:\\\\Work\\\\carbon\\\\altai\\\\ESA_WORLDCOVER_10M_2020_V100\\\\MAP\\\\ESA_WorldCover_10m_2020_v100_N51E084_Map\\\\ESA_WorldCover_10m_2020_v100_N51E084_Map.tif']"
      ]
     },
     "execution_count": 8,
     "metadata": {},
     "output_type": "execute_result"
    }
   ],
   "source": [
    "path = r\"E:\\Work\\CorrProizv\\WC\\ESA_WORLDCOVER_10M_2020_V100\\MAP\\\\\"\n",
    "dems = glob(path+\"*\\\\*_Map.tif\")\n",
    "dems"
   ]
  },
  {
   "cell_type": "code",
   "execution_count": 9,
   "id": "2f828575",
   "metadata": {
    "scrolled": true
   },
   "outputs": [
    {
     "data": {
      "text/plain": [
       "[<open DatasetReader name='E:/Work/carbon/altai/ESA_WORLDCOVER_10M_2020_V100/MAP/ESA_WorldCover_10m_2020_v100_N54E084_Map/ESA_WorldCover_10m_2020_v100_N54E084_Map.tif' mode='r'>,\n",
       " <open DatasetReader name='E:/Work/carbon/altai/ESA_WORLDCOVER_10M_2020_V100/MAP/ESA_WorldCover_10m_2020_v100_N54E081_Map/ESA_WorldCover_10m_2020_v100_N54E081_Map.tif' mode='r'>,\n",
       " <open DatasetReader name='E:/Work/carbon/altai/ESA_WORLDCOVER_10M_2020_V100/MAP/ESA_WorldCover_10m_2020_v100_N51E084_Map/ESA_WorldCover_10m_2020_v100_N51E084_Map.tif' mode='r'>]"
      ]
     },
     "execution_count": 9,
     "metadata": {},
     "output_type": "execute_result"
    }
   ],
   "source": [
    "files = []\n",
    "for dem in dems:\n",
    "    pathfile = rio.open(dem)\n",
    "    files.append(pathfile)\n",
    "files"
   ]
  },
  {
   "cell_type": "markdown",
   "id": "2087f46c",
   "metadata": {},
   "source": [
    "### Merging\n",
    "### Объединение"
   ]
  },
  {
   "cell_type": "code",
   "execution_count": 10,
   "id": "5d226b44",
   "metadata": {},
   "outputs": [],
   "source": [
    "dem, dem_trans = rio.merge.merge(files, method = 'last')"
   ]
  },
  {
   "cell_type": "markdown",
   "id": "2ae2a9ee",
   "metadata": {},
   "source": [
    "### Reprojection\n",
    "### Перепроецирование"
   ]
  },
  {
   "cell_type": "code",
   "execution_count": 11,
   "id": "9429fbe6",
   "metadata": {},
   "outputs": [],
   "source": [
    "with MemoryFile() as memfile:\n",
    "    with memfile.open(\n",
    "        driver='GTiff',\n",
    "        height=dem.shape[1],\n",
    "        width=dem.shape[2],\n",
    "        count=1,\n",
    "        dtype=dem.dtype,\n",
    "        compress = 'lzw',\n",
    "        crs='EPSG:4326',\n",
    "        transform=dem_trans,\n",
    "        BIGTIFF='YES',\n",
    "        nodata = 0\n",
    "    ) as temp:\n",
    "        temp.write(dem)\n",
    "        dsttransform, width, height = calculate_default_transform(\n",
    "            'EPSG:4326', sentinel.crs, temp.meta['width'], temp.meta['height'], *temp.bounds)\n",
    "        dem1 = np.zeros((height, width), dem.dtype)\n",
    "        reproject(\n",
    "            source=dem,\n",
    "            destination=dem1,\n",
    "            src_transform=dem_trans,\n",
    "            src_crs='EPSG:4326',\n",
    "            src_nodata = 0,\n",
    "            dst_transform=dsttransform,\n",
    "            dst_crs=sentinel.crs,\n",
    "            dst_nodata = 0,\n",
    "            num_threads = 4,\n",
    "            resampling=Resampling.nearest)\n",
    "        dem = dem1"
   ]
  },
  {
   "cell_type": "markdown",
   "id": "1c87a437",
   "metadata": {},
   "source": [
    "### Clipping\n",
    "### Обрезка"
   ]
  },
  {
   "cell_type": "code",
   "execution_count": 12,
   "id": "b044a3a8",
   "metadata": {},
   "outputs": [],
   "source": [
    "clipper = \"E:\\\\Work\\\\CorrProizv\\\\clipper.gpkg\"\n",
    "with fiona.open(clipper, \"r\") as shapefile:\n",
    "    shape = [feature[\"geometry\"] for feature in shapefile]\n",
    "with MemoryFile() as memfile:\n",
    "    with memfile.open(\n",
    "        driver='GTiff',\n",
    "        height=dem.shape[0],\n",
    "        width=dem.shape[1],\n",
    "        count=1,\n",
    "        dtype=dem.dtype,\n",
    "        compress = 'lzw',\n",
    "        crs=sentinel.crs,\n",
    "        transform=dsttransform,\n",
    "        BIGTIFF='YES',\n",
    "        nodata = 0\n",
    "    ) as temp:\n",
    "        temp.write(dem,1)\n",
    "        dem, dem_trans = rio.mask.mask(temp, shape,crop=True, filled=True)"
   ]
  },
  {
   "cell_type": "markdown",
   "id": "ee4715d2",
   "metadata": {},
   "source": [
    "### Resampling to the resolution of Sentinel-2 mosaic\n",
    "### Приведение к разрешению как у мозаики Sentinel-2"
   ]
  },
  {
   "cell_type": "code",
   "execution_count": 13,
   "id": "4e69a711",
   "metadata": {},
   "outputs": [],
   "source": [
    "dem1 = np.zeros((sentinel.shape), dem.dtype)\n",
    "reproject(\n",
    "    source = dem,\n",
    "    destination = dem1,\n",
    "    src_transform = dem_trans,\n",
    "    src_crs=sentinel.crs,\n",
    "    src_nodata = 0,\n",
    "    dst_transform = sentinel.transform,\n",
    "    dst_resolution = sentinel.res,\n",
    "    dst_crs=sentinel.crs,\n",
    "    dst_nodata = 0,\n",
    "    num_threads = 4,\n",
    "    resampling=Resampling.nearest)\n",
    "dem = dem1"
   ]
  },
  {
   "cell_type": "markdown",
   "id": "eaed69b9",
   "metadata": {},
   "source": [
    "### Saving\n",
    "### Сохранение"
   ]
  },
  {
   "cell_type": "code",
   "execution_count": 15,
   "id": "aee2eaf7",
   "metadata": {},
   "outputs": [],
   "source": [
    "with rio.open(\n",
    "    r\"E:\\Work\\CorrProizv\\Landcover.tif\",\n",
    "    'w',\n",
    "    driver='GTiff',\n",
    "    height=dem.shape[0],\n",
    "    width=dem.shape[1],\n",
    "    count=1,\n",
    "    dtype=dem.dtype,\n",
    "    compress = 'lzw',\n",
    "    crs=files[1].crs,\n",
    "    #crs=sentinel.crs,\n",
    "    transform=dem_trans,\n",
    "    #transform=sentinel.transform,\n",
    "    BIGTIFF='YES',\n",
    "    nodata = 0\n",
    ") as outfile:\n",
    "    outfile.write(dem)"
   ]
  },
  {
   "cell_type": "markdown",
   "id": "63d025a9",
   "metadata": {},
   "source": [
    "#### Mosaic creation tools from this notebook are now avaliable in a Python library named [Remote Sensing Processor](https://github.com/simonreise/remote-sensing-processor)\n",
    "#### Инструменты создания мозаик, использованные в этом блокноте доступны в библиотеке Python [Remote Sensing Processor](https://github.com/simonreise/remote-sensing-processor)"
   ]
  },
  {
   "cell_type": "code",
   "execution_count": null,
   "id": "fe7423b4-362e-4270-b63e-d6977aadb7be",
   "metadata": {},
   "outputs": [],
   "source": []
  }
 ],
 "metadata": {
  "kernelspec": {
   "display_name": "Python 3 (ipykernel)",
   "language": "python",
   "name": "python3"
  },
  "language_info": {
   "codemirror_mode": {
    "name": "ipython",
    "version": 3
   },
   "file_extension": ".py",
   "mimetype": "text/x-python",
   "name": "python",
   "nbconvert_exporter": "python",
   "pygments_lexer": "ipython3",
   "version": "3.10.12"
  }
 },
 "nbformat": 4,
 "nbformat_minor": 5
}
