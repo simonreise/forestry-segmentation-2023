{
 "cells": [
  {
   "cell_type": "markdown",
   "id": "47debc2c",
   "metadata": {},
   "source": [
    "# <div style=\"text-align: right;font-family:Times New Roman\">Приложение Б-5</div>\n",
    "# <div style=\"text-align: center;font-family:Times New Roman\">Тестирование модели на других территориях</div>"
   ]
  },
  {
   "cell_type": "markdown",
   "id": "9c7caef7",
   "metadata": {},
   "source": [
    "# Testing model on other territories\n",
    "# Тестирование модели на других территориях\n",
    "---\n",
    "In this notebook the tree species model is tested on other territories data. It was tested on data from Noyabrsk forestry of Yamal-Nenets AO and three forestries of Krasnoyarsk region \n",
    "\n",
    "В данном блокноте модель преобладающих пород тестируется на даннных других территорий. Она тестировалась на данных Ноябрьского лесничества ЯНАО и трех лесничеств Красноярского края"
   ]
  },
  {
   "cell_type": "markdown",
   "id": "e39e9a4e",
   "metadata": {},
   "source": [
    "### Importing dependencies\n",
    "### Импорт необходимых библиотек"
   ]
  },
  {
   "cell_type": "code",
   "execution_count": 9,
   "id": "709cc58d",
   "metadata": {},
   "outputs": [],
   "source": [
    "import os\n",
    "import random\n",
    "import re\n",
    "import numpy as np\n",
    "import matplotlib\n",
    "from glob import glob\n",
    "import rasterio as rio\n",
    "import matplotlib.pyplot as plt\n",
    "from matplotlib import patches as mpatches, colors\n",
    "import pandas as pd\n",
    "import pickle\n",
    "from osgeo import ogr, osr\n",
    "\n",
    "import tensorflow as tf\n",
    "from tensorflow import keras\n",
    "from tensorflow.keras import utils"
   ]
  },
  {
   "cell_type": "code",
   "execution_count": 10,
   "id": "08243677",
   "metadata": {},
   "outputs": [],
   "source": [
    "tile_size = 128"
   ]
  },
  {
   "cell_type": "code",
   "execution_count": 57,
   "id": "ca106a11",
   "metadata": {},
   "outputs": [
    {
     "data": {
      "text/plain": [
       "['F:\\\\Work\\\\CorrProizv\\\\tests\\\\krasnoyarsk\\\\irb\\\\B1.tif',\n",
       " 'F:\\\\Work\\\\CorrProizv\\\\tests\\\\krasnoyarsk\\\\irb\\\\B11.tif',\n",
       " 'F:\\\\Work\\\\CorrProizv\\\\tests\\\\krasnoyarsk\\\\irb\\\\B12.tif',\n",
       " 'F:\\\\Work\\\\CorrProizv\\\\tests\\\\krasnoyarsk\\\\irb\\\\B2.tif',\n",
       " 'F:\\\\Work\\\\CorrProizv\\\\tests\\\\krasnoyarsk\\\\irb\\\\B3.tif',\n",
       " 'F:\\\\Work\\\\CorrProizv\\\\tests\\\\krasnoyarsk\\\\irb\\\\B4.tif',\n",
       " 'F:\\\\Work\\\\CorrProizv\\\\tests\\\\krasnoyarsk\\\\irb\\\\B5.tif',\n",
       " 'F:\\\\Work\\\\CorrProizv\\\\tests\\\\krasnoyarsk\\\\irb\\\\B6.tif',\n",
       " 'F:\\\\Work\\\\CorrProizv\\\\tests\\\\krasnoyarsk\\\\irb\\\\B7.tif',\n",
       " 'F:\\\\Work\\\\CorrProizv\\\\tests\\\\krasnoyarsk\\\\irb\\\\B8.tif',\n",
       " 'F:\\\\Work\\\\CorrProizv\\\\tests\\\\krasnoyarsk\\\\irb\\\\B8A.tif',\n",
       " 'F:\\\\Work\\\\CorrProizv\\\\tests\\\\krasnoyarsk\\\\irb\\\\B9.tif',\n",
       " 'F:\\\\Work\\\\CorrProizv\\\\tests\\\\krasnoyarsk\\\\irb\\\\\\\\DEM.tif',\n",
       " 'F:\\\\Work\\\\CorrProizv\\\\tests\\\\krasnoyarsk\\\\irb\\\\\\\\Landcover.tif',\n",
       " 'F:\\\\Work\\\\CorrProizv\\\\tests\\\\krasnoyarsk\\\\irb\\\\\\\\Hansen_mosaic.tif']"
      ]
     },
     "execution_count": 57,
     "metadata": {},
     "output_type": "execute_result"
    }
   ],
   "source": [
    "#getting x data / список данных-предикторов\n",
    "#x data is created using Sentinel-2 preprocessing notebook \n",
    "#даннные-предикторы созданы при помощи блокнота 'Предобработка Sentinel-2'\n",
    "path = r'F:\\Work\\CorrProizv\\tests\\krasnoyarsk\\irb\\\\'\n",
    "files = glob(path+'B*.tif')\n",
    "files.append(path + 'DEM.tif')\n",
    "files.append(path + 'Landcover.tif')\n",
    "files.append(path + 'Hansen_mosaic.tif')\n",
    "files"
   ]
  },
  {
   "cell_type": "code",
   "execution_count": 58,
   "id": "9b5b043e",
   "metadata": {},
   "outputs": [
    {
     "data": {
      "text/plain": [
       "'F:\\\\Work\\\\CorrProizv\\\\tests\\\\krasnoyarsk\\\\irb\\\\\\\\y.tif'"
      ]
     },
     "execution_count": 58,
     "metadata": {},
     "output_type": "execute_result"
    }
   ],
   "source": [
    "y = path + 'y.tif'\n",
    "y"
   ]
  },
  {
   "cell_type": "code",
   "execution_count": 76,
   "id": "b82f3c72",
   "metadata": {},
   "outputs": [],
   "source": [
    "#getting shape, proj and transform of input image / получение размеров, проекции и трансформации входных изображений\n",
    "with rio.open(files[0]) as f:\n",
    "    shp_in = f.shape\n",
    "    transform = f.transform\n",
    "    crs = f.crs\n",
    "    dtype = f.dtypes[0]\n",
    "#getting shape that is needed to divide into tiles without remainder \n",
    "#вычисление размераа, который нужен для разделения растра на тайлы без остатка\n",
    "shp_work = []\n",
    "for d in shp_in:\n",
    "    while not d % tile_size == 0:\n",
    "        d += 1\n",
    "    shp_work.append(d)"
   ]
  },
  {
   "cell_type": "code",
   "execution_count": 60,
   "id": "51f154c5",
   "metadata": {},
   "outputs": [],
   "source": [
    "#getting how much rows and cols we need to add to input shape \n",
    "#вычисление количества столбцов и строк, которые надо добавить к входному изображению\n",
    "shp_pad = []\n",
    "for i in range(len(shp_work)):\n",
    "    a = shp_work[i]\n",
    "    b = shp_in[i]\n",
    "    shp_pad.append(a - b)"
   ]
  },
  {
   "cell_type": "code",
   "execution_count": 61,
   "id": "b342fd20",
   "metadata": {},
   "outputs": [],
   "source": [
    "#creating numpy array / создание массива numpy\n",
    "x_train_conv = np.empty((shp_work[0], shp_work[1], 15), dtype = 'uint16')"
   ]
  },
  {
   "cell_type": "code",
   "execution_count": 62,
   "id": "1f2110b8",
   "metadata": {},
   "outputs": [
    {
     "name": "stdout",
     "output_type": "stream",
     "text": [
      "F:\\Work\\CorrProizv\\tests\\krasnoyarsk\\irb\\B1.tif\n",
      "F:\\Work\\CorrProizv\\tests\\krasnoyarsk\\irb\\B11.tif\n",
      "F:\\Work\\CorrProizv\\tests\\krasnoyarsk\\irb\\B12.tif\n",
      "F:\\Work\\CorrProizv\\tests\\krasnoyarsk\\irb\\B2.tif\n",
      "F:\\Work\\CorrProizv\\tests\\krasnoyarsk\\irb\\B3.tif\n",
      "F:\\Work\\CorrProizv\\tests\\krasnoyarsk\\irb\\B4.tif\n",
      "F:\\Work\\CorrProizv\\tests\\krasnoyarsk\\irb\\B5.tif\n",
      "F:\\Work\\CorrProizv\\tests\\krasnoyarsk\\irb\\B6.tif\n",
      "F:\\Work\\CorrProizv\\tests\\krasnoyarsk\\irb\\B7.tif\n",
      "F:\\Work\\CorrProizv\\tests\\krasnoyarsk\\irb\\B8.tif\n",
      "F:\\Work\\CorrProizv\\tests\\krasnoyarsk\\irb\\B8A.tif\n",
      "F:\\Work\\CorrProizv\\tests\\krasnoyarsk\\irb\\B9.tif\n",
      "F:\\Work\\CorrProizv\\tests\\krasnoyarsk\\irb\\\\DEM.tif\n",
      "F:\\Work\\CorrProizv\\tests\\krasnoyarsk\\irb\\\\Landcover.tif\n",
      "F:\\Work\\CorrProizv\\tests\\krasnoyarsk\\irb\\\\Hansen_mosaic.tif\n"
     ]
    }
   ],
   "source": [
    "#reading all x files / чтение всех данных-предикторов\n",
    "for i in range(len(files)):\n",
    "    with rio.open(files[i]) as bnd:\n",
    "        container = x_train_conv[:,:,i:i+1]\n",
    "        container[:] = np.transpose(np.pad(bnd.read(), ((0,0),(0,shp_pad[0]),(0,shp_pad[1])), mode='constant', constant_values=0), axes=[1, 2, 0]).astype('uint16')\n",
    "        print(files[i])"
   ]
  },
  {
   "cell_type": "code",
   "execution_count": 63,
   "id": "95b0cd44",
   "metadata": {},
   "outputs": [],
   "source": [
    "#reading y file / чтение обучающих данных\n",
    "with rio.open(y) as bnd:\n",
    "    y_train_conv = bnd.read().astype('uint16')\n",
    "y_train_conv = np.pad(y_train_conv, ((0,0),(0,shp_pad[0]),(0,shp_pad[1])), mode='constant', constant_values=0)\n",
    "y_train_conv = np.transpose(y_train_conv, axes=[1, 2, 0])"
   ]
  },
  {
   "cell_type": "code",
   "execution_count": 64,
   "id": "ad0f8141",
   "metadata": {},
   "outputs": [],
   "source": [
    "#generating tiles / генерация тайлов\n",
    "tiles = []\n",
    "x1 = 0\n",
    "y1 = 0\n",
    "x2 = tile_size\n",
    "y2 = tile_size\n",
    "for i in range (0,int(shp_work[0] / tile_size),1):\n",
    "    for i in range(0,int(shp_work[1] / tile_size),1):\n",
    "        tiles.append((x1,y1,x2,y2))\n",
    "        y1+=tile_size\n",
    "        y2+=tile_size\n",
    "    y1=0\n",
    "    y2=tile_size\n",
    "    x1+=tile_size\n",
    "    x2+=tile_size"
   ]
  },
  {
   "cell_type": "code",
   "execution_count": 65,
   "id": "b32d198d",
   "metadata": {},
   "outputs": [],
   "source": [
    "#generating x tiles / генерация тайлов данных-предикторов\n",
    "x = np.empty((len(tiles), tile_size, tile_size, 15), dtype = 'uint16')"
   ]
  },
  {
   "cell_type": "code",
   "execution_count": 66,
   "id": "9aa0845b",
   "metadata": {},
   "outputs": [],
   "source": [
    "for i in range(len(tiles)):\n",
    "    c = tiles[i]\n",
    "    container = x[i:i+1,:,:,:]\n",
    "    container[:] = x_train_conv[c[0]:c[2], c[1]:c[3],:]"
   ]
  },
  {
   "cell_type": "code",
   "execution_count": 67,
   "id": "f1452250",
   "metadata": {},
   "outputs": [],
   "source": [
    "#generating y tiles / генерация тайлов обучающих данных\n",
    "y = np.empty((len(tiles), tile_size, tile_size, 1), dtype = 'uint16')"
   ]
  },
  {
   "cell_type": "code",
   "execution_count": 68,
   "id": "a1997c03",
   "metadata": {},
   "outputs": [],
   "source": [
    "for i in range(len(tiles)):\n",
    "    c = tiles[i]\n",
    "    container = y[i:i+1,:,:,:]\n",
    "    container[:] = y_train_conv[c[0]:c[2], c[1]:c[3],:]"
   ]
  },
  {
   "cell_type": "code",
   "execution_count": 69,
   "id": "a442f929",
   "metadata": {},
   "outputs": [],
   "source": [
    "y = utils.to_categorical(y, num_classes=14, dtype = 'float16')"
   ]
  },
  {
   "cell_type": "code",
   "execution_count": 25,
   "id": "14bf3e30",
   "metadata": {},
   "outputs": [],
   "source": [
    "#loading model / загрузка модели\n",
    "model = tf.keras.models.load_model(r'E:\\Work\\CorrProizv\\deeplab_species1_1.hdf5')"
   ]
  },
  {
   "cell_type": "code",
   "execution_count": 70,
   "id": "da655749",
   "metadata": {},
   "outputs": [],
   "source": [
    "class CustomDataGen(tf.keras.utils.Sequence):\n",
    "    def __init__(self, X_ds, y_ds, batch_size, *args, **kwargs):\n",
    "        self.batch_size = batch_size\n",
    "        self.X_ds = X_ds\n",
    "        self.y_ds = y_ds\n",
    "\n",
    "    def __len__(self):\n",
    "        'Denotes the number of batches per epoch'\n",
    "        return int(np.floor(len(self.X_ds) / self.batch_size))\n",
    "\n",
    "    def __getitem__(self, index):\n",
    "        # returns one batch\n",
    "        X = self.X_ds[index*self.batch_size:(index+1)*self.batch_size].astype('float32')\n",
    "        y = self.y_ds[index*self.batch_size:(index+1)*self.batch_size].astype('float32')\n",
    "        for i in range(len(X)):\n",
    "            X[i] = X[i] * np.broadcast_to((1-y[i][:,:,0:1]), X[i].shape)\n",
    "        return X, y\n",
    "\n",
    "batch_size = 16\n",
    "test_generator = CustomDataGen(X_ds = x, y_ds = y, batch_size = batch_size)"
   ]
  },
  {
   "cell_type": "code",
   "execution_count": 71,
   "id": "0844630d",
   "metadata": {
    "scrolled": true
   },
   "outputs": [
    {
     "name": "stdout",
     "output_type": "stream",
     "text": [
      "487/487 [==============================] - 35s 70ms/step - loss: 1.2071 - accuracy: 0.6712 - precision: 0.8147 - recall: 0.6356 - MAE: 0.0475 - auc: 0.9528\n"
     ]
    }
   ],
   "source": [
    "#testing / тестирование\n",
    "results = model.evaluate(test_generator)"
   ]
  },
  {
   "cell_type": "code",
   "execution_count": 72,
   "id": "db8bada5",
   "metadata": {},
   "outputs": [],
   "source": [
    "#creating numpy array for prediction results mapping / создание массива для картографирования результатов моделирования\n",
    "y_pred = np.zeros(shp_work, dtype = 'int16')"
   ]
  },
  {
   "cell_type": "code",
   "execution_count": 73,
   "id": "3ac82568",
   "metadata": {},
   "outputs": [],
   "source": [
    "#predictng / моделирование\n",
    "for i in range(len(tiles)):\n",
    "    prediction = model.predict(x[i:i+1])\n",
    "    prediction = np.squeeze(np.argmax(prediction, axis=-1))\n",
    "    t = tiles[i]\n",
    "    y_pred[t[0]:t[2],t[1]:t[3]] = prediction"
   ]
  },
  {
   "cell_type": "code",
   "execution_count": 74,
   "id": "ca1be92c",
   "metadata": {},
   "outputs": [],
   "source": [
    "y_pred = y_pred[:shp_in[0], :shp_in[1]]"
   ]
  },
  {
   "cell_type": "code",
   "execution_count": 75,
   "id": "9885e961",
   "metadata": {},
   "outputs": [],
   "source": [
    "#saving map into raster file / сохранение карты в растровый файл\n",
    "with rio.open(\n",
    "    path + 'y_pred_1.tif',\n",
    "    'w',\n",
    "    driver='GTiff',\n",
    "    height=y_pred.shape[0],\n",
    "    width=y_pred.shape[1],\n",
    "    count=1,\n",
    "    dtype=y_pred.dtype,\n",
    "    compress = 'deflate',\n",
    "    PREDICTOR = 1,\n",
    "    ZLEVEL=9,\n",
    "    crs=crs,\n",
    "    transform=transform,\n",
    "    nodata = 0\n",
    ") as outfile:\n",
    "    outfile.write(y_pred, 1)"
   ]
  },
  {
   "cell_type": "markdown",
   "id": "47a43a92",
   "metadata": {},
   "source": [
    "#### Tools for tile generation, semantic segmentation and mapping of the modeling results from this notebook are now avaliable in a Python library named [Remote Sensing Processor](https://github.com/simonreise/remote-sensing-processor)\n",
    "#### Инструменты для генерации тайлов, семантической сегментации и картирования результатов моделирования, использованные в этом блокноте доступны в библиотеке Python [Remote Sensing Processor](https://github.com/simonreise/remote-sensing-processor)"
   ]
  },
  {
   "cell_type": "code",
   "execution_count": null,
   "id": "b11618f0-08af-4594-adbe-980fb6c13c8a",
   "metadata": {},
   "outputs": [],
   "source": []
  }
 ],
 "metadata": {
  "kernelspec": {
   "display_name": "Python 3 (ipykernel)",
   "language": "python",
   "name": "python3"
  },
  "language_info": {
   "codemirror_mode": {
    "name": "ipython",
    "version": 3
   },
   "file_extension": ".py",
   "mimetype": "text/x-python",
   "name": "python",
   "nbconvert_exporter": "python",
   "pygments_lexer": "ipython3",
   "version": "3.10.12"
  }
 },
 "nbformat": 4,
 "nbformat_minor": 5
}
